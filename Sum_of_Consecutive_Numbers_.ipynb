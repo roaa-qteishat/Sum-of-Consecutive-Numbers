{
  "nbformat": 4,
  "nbformat_minor": 0,
  "metadata": {
    "colab": {
      "name": "Sum of Consecutive Numbers .ipynb",
      "provenance": [],
      "authorship_tag": "ABX9TyPowyPxUX5nBXUu0cmLy5of",
      "include_colab_link": true
    },
    "kernelspec": {
      "name": "python3",
      "display_name": "Python 3"
    },
    "language_info": {
      "name": "python"
    }
  },
  "cells": [
    {
      "cell_type": "markdown",
      "metadata": {
        "id": "view-in-github",
        "colab_type": "text"
      },
      "source": [
        "<a href=\"https://colab.research.google.com/github/roaa-qteishat/Sum-of-Consecutive-Numbers/blob/main/Sum_of_Consecutive_Numbers_.ipynb\" target=\"_parent\"><img src=\"https://colab.research.google.com/assets/colab-badge.svg\" alt=\"Open In Colab\"/></a>"
      ]
    },
    {
      "cell_type": "markdown",
      "source": [
        "Take a number N as input and output the sum of all numbers from 1 to N (including N).\n",
        "\n",
        "Explanation: The sum of all numbers from 1 to 100 is equal to 5050."
      ],
      "metadata": {
        "id": "_z0pBVAiELdo"
      }
    },
    {
      "cell_type": "code",
      "execution_count": 11,
      "metadata": {
        "colab": {
          "base_uri": "https://localhost:8080/"
        },
        "id": "ZigxdYJx8NLD",
        "outputId": "129ad40e-03d1-4510-8027-73abd2968c6f"
      },
      "outputs": [
        {
          "output_type": "stream",
          "name": "stdout",
          "text": [
            "please enter the number= 100\n",
            "5050\n"
          ]
        }
      ],
      "source": [
        "num=int(input(\"please enter the number= \"))\n",
        "sum=0\n",
        "for a in range(num+1):\n",
        " sum=sum+a\n",
        "print(sum)"
      ]
    }
  ]
}